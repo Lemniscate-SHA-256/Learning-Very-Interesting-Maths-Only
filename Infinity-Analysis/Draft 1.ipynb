{
 "cells": [
  {
   "cell_type": "markdown",
   "metadata": {},
   "source": [
    "Advantage: Embed singularities into the manifold as \"points\" in  I avoiding incompleteness.\n",
    "At r = 0 replace the divergent  gttwith inf1, treating the singularity as a formal element of the geometry."
   ]
  },
  {
   "cell_type": "markdown",
   "metadata": {},
   "source": [
    "Hyperreal numbers\n",
    "non-Archimedian fields"
   ]
  }
 ],
 "metadata": {
  "language_info": {
   "name": "python"
  }
 },
 "nbformat": 4,
 "nbformat_minor": 2
}
