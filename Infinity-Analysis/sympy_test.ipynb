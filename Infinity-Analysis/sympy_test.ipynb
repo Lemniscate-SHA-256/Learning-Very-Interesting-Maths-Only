{
 "cells": [
  {
   "cell_type": "code",
   "execution_count": 3,
   "metadata": {},
   "outputs": [
    {
     "name": "stdout",
     "output_type": "stream",
     "text": [
      "pi**2/6\n",
      "E\n"
     ]
    }
   ],
   "source": [
    "from sympy import oo, Sum, symbols, limit\n",
    "\n",
    "n = symbols('n')\n",
    "# Evaluate an infinite series (e.g., ∑ 1/n² from n=1 to ∞)\n",
    "series = Sum(1/n**2, (n, 1, oo))\n",
    "print(series.doit())  # Output: π²/6\n",
    "\n",
    "# Calculate a limit approaching infinity\n",
    "print(limit((1 + 1/n)**n, n, oo))  # Output: exp(1) ≈ 2.718...\n"
   ]
  }
 ],
 "metadata": {
  "kernelspec": {
   "display_name": "Python 3",
   "language": "python",
   "name": "python3"
  },
  "language_info": {
   "codemirror_mode": {
    "name": "ipython",
    "version": 3
   },
   "file_extension": ".py",
   "mimetype": "text/x-python",
   "name": "python",
   "nbconvert_exporter": "python",
   "pygments_lexer": "ipython3",
   "version": "3.12.3"
  }
 },
 "nbformat": 4,
 "nbformat_minor": 2
}
